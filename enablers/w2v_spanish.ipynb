{
 "cells": [
  {
   "cell_type": "code",
   "execution_count": 20,
   "metadata": {},
   "outputs": [],
   "source": [
    "import os\n",
    "import codecs\n",
    "import nltk\n",
    "from nltk import word_tokenize, sent_tokenize"
   ]
  },
  {
   "cell_type": "code",
   "execution_count": 16,
   "metadata": {},
   "outputs": [],
   "source": [
    "import gensim\n",
    "from gensim.models.word2vec import Word2Vec\n",
    "# from keras.datasets import gutenburg"
   ]
  },
  {
   "cell_type": "code",
   "execution_count": 31,
   "metadata": {},
   "outputs": [],
   "source": [
    "# Constants\n",
    "spanish_repo = \"wiki_es\"\n",
    "spanish_model_path = \"raw_spanish_model.w2v\"\n",
    "  "
   ]
  },
  {
   "cell_type": "code",
   "execution_count": 32,
   "metadata": {},
   "outputs": [],
   "source": [
    "#gutenberg.fileids()\n",
    "def get_sentences(repo=spanish_repo):\n",
    "  sentences = []\n",
    "  for document in os.listdir(spanish_repo):\n",
    "    doc_path = os.path.join(spanish_repo, document)\n",
    "    print(\"Extracting for %s .... \" % doc_path)\n",
    "    content = codecs.open(doc_path, \"r\", \"utf-8-sig\").read()\n",
    "    for sentence in nltk.sent_tokenize(content):\n",
    "      sentences.append(nltk.word_tokenize(sentence))\n",
    "  return sentences"
   ]
  },
  {
   "cell_type": "code",
   "execution_count": 37,
   "metadata": {},
   "outputs": [
    {
     "name": "stdout",
     "output_type": "stream",
     "text": [
      "Using existing model ... \n"
     ]
    }
   ],
   "source": [
    "def get_model(model_path=spanish_model_path):\n",
    "  if os.path.exists(model_path):\n",
    "    print(\"Using existing model ... \")\n",
    "    return gensim.models.Word2Vec.load(model_path)\n",
    "  spanish_sentences = get_sentences()\n",
    "  print(\"Building Model ..... \")\n",
    "  model = Word2Vec(sentences=spanish_sentences, size=64, sg=1, window=10, min_count=5, seed=42, workers=8)\n",
    "  model.save(model_path)\n",
    "  print(\"Model saved to %s .... \" % model_path)\n",
    "  return model\n",
    "\n",
    "spanish_model = get_model()"
   ]
  },
  {
   "cell_type": "code",
   "execution_count": 38,
   "metadata": {},
   "outputs": [
    {
     "name": "stderr",
     "output_type": "stream",
     "text": [
      "/Users/panzer/Softwares/miniconda/lib/python2.7/site-packages/ipykernel_launcher.py:1: DeprecationWarning: Call to deprecated `most_similar` (Method will be removed in 4.0.0, use self.wv.most_similar() instead).\n",
      "  \"\"\"Entry point for launching an IPython kernel.\n"
     ]
    },
    {
     "data": {
      "text/plain": [
       "[(u'arom\\xe1tico', 0.9013170599937439),\n",
       " (u'enrejado', 0.901007890701294),\n",
       " (u'canastillo', 0.893890917301178),\n",
       " (u'candilejas', 0.8834844827651978),\n",
       " (u'martillo', 0.8779642581939697),\n",
       " (u'pectoral', 0.8779280185699463),\n",
       " (u'capitel', 0.8758035898208618),\n",
       " (u'cubrir\\xe1s', 0.8756725788116455),\n",
       " (u'oratorio', 0.8735159635543823),\n",
       " (u'tabla', 0.872032105922699)]"
      ]
     },
     "execution_count": 38,
     "metadata": {},
     "output_type": "execute_result"
    }
   ],
   "source": [
    "spanish_model.most_similar('candelero')"
   ]
  },
  {
   "cell_type": "code",
   "execution_count": null,
   "metadata": {},
   "outputs": [],
   "source": []
  }
 ],
 "metadata": {
  "kernelspec": {
   "display_name": "Python 2",
   "language": "python",
   "name": "python2"
  },
  "language_info": {
   "codemirror_mode": {
    "name": "ipython",
    "version": 2
   },
   "file_extension": ".py",
   "mimetype": "text/x-python",
   "name": "python",
   "nbconvert_exporter": "python",
   "pygments_lexer": "ipython2",
   "version": "2.7.12"
  }
 },
 "nbformat": 4,
 "nbformat_minor": 2
}
